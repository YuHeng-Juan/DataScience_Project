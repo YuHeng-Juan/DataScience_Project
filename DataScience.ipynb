{
  "nbformat": 4,
  "nbformat_minor": 0,
  "metadata": {
    "colab": {
      "name": "Untitled0.ipynb",
      "provenance": [],
      "toc_visible": true
    },
    "kernelspec": {
      "display_name": "Python 3",
      "name": "python3"
    },
    "language_info": {
      "name": "python"
    }
  },
  "cells": [
    {
      "cell_type": "code",
      "metadata": {
        "colab": {
          "base_uri": "https://localhost:8080/"
        },
        "id": "mTKFCXJ6e63X",
        "outputId": "a65741a4-148b-4676-f1b5-c9aa9f6915d3"
      },
      "source": [
        "from google.colab import drive\n",
        "drive.mount('/content/gdrive')"
      ],
      "execution_count": 1,
      "outputs": [
        {
          "output_type": "stream",
          "text": [
            "Mounted at /content/gdrive\n"
          ],
          "name": "stdout"
        }
      ]
    },
    {
      "cell_type": "code",
      "metadata": {
        "id": "YSMheQz6fI2x"
      },
      "source": [
        "import pandas as pd\n",
        "df = pd.read_csv(\"/content/gdrive/MyDrive/資料分析/scooter_crime.csv\", encoding='big5')\n",
        "df2 = pd.read_csv(\"/content/gdrive/MyDrive/資料分析/random_robber_crime.csv\", encoding='big5')\n",
        "df3 = pd.read_csv(\"/content/gdrive/MyDrive/資料分析/random_snatch_crime.csv\", encoding='big5')\n",
        "df4 = pd.read_csv(\"/content/gdrive/MyDrive/資料分析/mobile_crime.csv\", encoding='big5')\n",
        "df5 = pd.read_csv(\"/content/gdrive/MyDrive/資料分析/home_crime.csv\", encoding='big5')\n",
        "df6 = pd.read_csv(\"/content/gdrive/MyDrive/資料分析/bicycle_crime.csv\", encoding='big5')"
      ],
      "execution_count": 2,
      "outputs": []
    },
    {
      "cell_type": "code",
      "metadata": {
        "colab": {
          "base_uri": "https://localhost:8080/",
          "height": 419
        },
        "id": "LpLUMJQeiTLY",
        "outputId": "6a6b6602-43d0-44ad-9918-200a9dcbd426"
      },
      "source": [
        "df"
      ],
      "execution_count": 3,
      "outputs": [
        {
          "output_type": "execute_result",
          "data": {
            "text/html": [
              "<div>\n",
              "<style scoped>\n",
              "    .dataframe tbody tr th:only-of-type {\n",
              "        vertical-align: middle;\n",
              "    }\n",
              "\n",
              "    .dataframe tbody tr th {\n",
              "        vertical-align: top;\n",
              "    }\n",
              "\n",
              "    .dataframe thead th {\n",
              "        text-align: right;\n",
              "    }\n",
              "</style>\n",
              "<table border=\"1\" class=\"dataframe\">\n",
              "  <thead>\n",
              "    <tr style=\"text-align: right;\">\n",
              "      <th></th>\n",
              "      <th>編號</th>\n",
              "      <th>案類</th>\n",
              "      <th>發生(現)日期</th>\n",
              "      <th>發生時段</th>\n",
              "      <th>發生(現)地點</th>\n",
              "    </tr>\n",
              "  </thead>\n",
              "  <tbody>\n",
              "    <tr>\n",
              "      <th>0</th>\n",
              "      <td>1</td>\n",
              "      <td>機車竊盜</td>\n",
              "      <td>1070104</td>\n",
              "      <td>00~02</td>\n",
              "      <td>臺北市中山區林森北路133巷72弄內</td>\n",
              "    </tr>\n",
              "    <tr>\n",
              "      <th>1</th>\n",
              "      <td>2</td>\n",
              "      <td>機車竊盜</td>\n",
              "      <td>1070104</td>\n",
              "      <td>06~08</td>\n",
              "      <td>臺北市士林區德行東路90巷27弄1~30號</td>\n",
              "    </tr>\n",
              "    <tr>\n",
              "      <th>2</th>\n",
              "      <td>3</td>\n",
              "      <td>機車竊盜</td>\n",
              "      <td>1070105</td>\n",
              "      <td>22~24</td>\n",
              "      <td>臺北市大安區仁愛路3段1~30號</td>\n",
              "    </tr>\n",
              "    <tr>\n",
              "      <th>3</th>\n",
              "      <td>4</td>\n",
              "      <td>機車竊盜</td>\n",
              "      <td>1070106</td>\n",
              "      <td>00~02</td>\n",
              "      <td>臺北市中正區文北里杭州南路1段61~90號</td>\n",
              "    </tr>\n",
              "    <tr>\n",
              "      <th>4</th>\n",
              "      <td>5</td>\n",
              "      <td>機車竊盜</td>\n",
              "      <td>1070107</td>\n",
              "      <td>18~20</td>\n",
              "      <td>臺北市萬華區大理街91~120號</td>\n",
              "    </tr>\n",
              "    <tr>\n",
              "      <th>...</th>\n",
              "      <td>...</td>\n",
              "      <td>...</td>\n",
              "      <td>...</td>\n",
              "      <td>...</td>\n",
              "      <td>...</td>\n",
              "    </tr>\n",
              "    <tr>\n",
              "      <th>543</th>\n",
              "      <td>544</td>\n",
              "      <td>機車竊盜</td>\n",
              "      <td>1100215</td>\n",
              "      <td>18~21</td>\n",
              "      <td>臺北市中正區廈門街1~30號</td>\n",
              "    </tr>\n",
              "    <tr>\n",
              "      <th>544</th>\n",
              "      <td>545</td>\n",
              "      <td>機車竊盜</td>\n",
              "      <td>1100218</td>\n",
              "      <td>06~09</td>\n",
              "      <td>臺北市北投區石牌路1段166巷69弄1~30號</td>\n",
              "    </tr>\n",
              "    <tr>\n",
              "      <th>545</th>\n",
              "      <td>546</td>\n",
              "      <td>機車竊盜</td>\n",
              "      <td>1100126</td>\n",
              "      <td>15~18</td>\n",
              "      <td>臺北市萬華區華中橋下停車場</td>\n",
              "    </tr>\n",
              "    <tr>\n",
              "      <th>546</th>\n",
              "      <td>547</td>\n",
              "      <td>機車竊盜</td>\n",
              "      <td>1100111</td>\n",
              "      <td>06~09</td>\n",
              "      <td>臺北市文山區木新里007鄰指南路1段91~120號1樓前</td>\n",
              "    </tr>\n",
              "    <tr>\n",
              "      <th>547</th>\n",
              "      <td>548</td>\n",
              "      <td>機車竊盜</td>\n",
              "      <td>1100120</td>\n",
              "      <td>21~24</td>\n",
              "      <td>臺北市信義區松信路121~150號前</td>\n",
              "    </tr>\n",
              "  </tbody>\n",
              "</table>\n",
              "<p>548 rows × 5 columns</p>\n",
              "</div>"
            ],
            "text/plain": [
              "      編號    案類  發生(現)日期    發生時段                       發生(現)地點\n",
              "0      1  機車竊盜  1070104   00~02            臺北市中山區林森北路133巷72弄內\n",
              "1      2  機車竊盜  1070104   06~08         臺北市士林區德行東路90巷27弄1~30號\n",
              "2      3  機車竊盜  1070105   22~24              臺北市大安區仁愛路3段1~30號\n",
              "3      4  機車竊盜  1070106   00~02         臺北市中正區文北里杭州南路1段61~90號\n",
              "4      5  機車竊盜  1070107   18~20              臺北市萬華區大理街91~120號\n",
              "..   ...   ...      ...     ...                           ...\n",
              "543  544  機車竊盜  1100215   18~21                臺北市中正區廈門街1~30號\n",
              "544  545  機車竊盜  1100218   06~09       臺北市北投區石牌路1段166巷69弄1~30號\n",
              "545  546  機車竊盜  1100126   15~18                 臺北市萬華區華中橋下停車場\n",
              "546  547  機車竊盜  1100111   06~09  臺北市文山區木新里007鄰指南路1段91~120號1樓前\n",
              "547  548  機車竊盜  1100120   21~24            臺北市信義區松信路121~150號前\n",
              "\n",
              "[548 rows x 5 columns]"
            ]
          },
          "metadata": {
            "tags": []
          },
          "execution_count": 3
        }
      ]
    },
    {
      "cell_type": "code",
      "metadata": {
        "id": "wmPiJv1xe-SU"
      },
      "source": [
        "df2 = df2.drop([19], axis=0)\n",
        "df2 = df2.drop(['備註'], axis=1)\n",
        "\n",
        "df3 = df3.drop([27], axis=0)\n",
        "df3 = df3.drop(['備註'], axis=1)"
      ],
      "execution_count": 4,
      "outputs": []
    },
    {
      "cell_type": "code",
      "metadata": {
        "id": "KdpgQ11gfz97"
      },
      "source": [
        "df2[['編號', '發生(現)日期']] = df2[['編號', '發生(現)日期']].astype(int)\n",
        "\n",
        "df3[['編號', '發生(現)日期']] = df3[['編號', '發生(現)日期']].astype(int)"
      ],
      "execution_count": 5,
      "outputs": []
    },
    {
      "cell_type": "code",
      "metadata": {
        "id": "083gEF4mjbck"
      },
      "source": [
        "df_all = df.append(df2)\n",
        "df_all = df_all.append(df3)\n",
        "df_all = df_all.append(df4)\n",
        "df_all = df_all.append(df5)\n",
        "df_all = df_all.append(df6)"
      ],
      "execution_count": 6,
      "outputs": []
    },
    {
      "cell_type": "code",
      "metadata": {
        "colab": {
          "base_uri": "https://localhost:8080/"
        },
        "id": "a4SNdBaqKUwI",
        "outputId": "11bf9da6-76d5-4c29-f9de-969c608dd321"
      },
      "source": [
        "df_all.shape"
      ],
      "execution_count": 7,
      "outputs": [
        {
          "output_type": "execute_result",
          "data": {
            "text/plain": [
              "(6330, 5)"
            ]
          },
          "metadata": {
            "tags": []
          },
          "execution_count": 7
        }
      ]
    },
    {
      "cell_type": "code",
      "metadata": {
        "colab": {
          "base_uri": "https://localhost:8080/"
        },
        "id": "E564gWipOvIt",
        "outputId": "0de33dca-d3ac-429b-a567-2ab16e8bbd7f"
      },
      "source": [
        "df_all.iloc[6329,:]"
      ],
      "execution_count": 8,
      "outputs": [
        {
          "output_type": "execute_result",
          "data": {
            "text/plain": [
              "編號                          2114\n",
              "案類                         自行車竊盜\n",
              "發生(現)日期                  1100226\n",
              "發生時段                       15~18\n",
              "發生(現)地點    臺北市大同區承德路3段庫倫街口東南角停車場\n",
              "Name: 2113, dtype: object"
            ]
          },
          "metadata": {
            "tags": []
          },
          "execution_count": 8
        }
      ]
    },
    {
      "cell_type": "code",
      "metadata": {
        "id": "ADevVAX3WPhS"
      },
      "source": [
        "for i in range(6330):\n",
        "  df_all.iloc[i,0] = i"
      ],
      "execution_count": 9,
      "outputs": []
    },
    {
      "cell_type": "code",
      "metadata": {
        "id": "PRIIDuJGQYSo"
      },
      "source": [
        "df_all = df_all.set_index('編號')"
      ],
      "execution_count": 10,
      "outputs": []
    },
    {
      "cell_type": "code",
      "metadata": {
        "colab": {
          "base_uri": "https://localhost:8080/",
          "height": 450
        },
        "id": "01NKonreQ8sC",
        "outputId": "27d0bd13-d4c2-44e9-af7c-d129ce68dbda"
      },
      "source": [
        "df_all"
      ],
      "execution_count": 11,
      "outputs": [
        {
          "output_type": "execute_result",
          "data": {
            "text/html": [
              "<div>\n",
              "<style scoped>\n",
              "    .dataframe tbody tr th:only-of-type {\n",
              "        vertical-align: middle;\n",
              "    }\n",
              "\n",
              "    .dataframe tbody tr th {\n",
              "        vertical-align: top;\n",
              "    }\n",
              "\n",
              "    .dataframe thead th {\n",
              "        text-align: right;\n",
              "    }\n",
              "</style>\n",
              "<table border=\"1\" class=\"dataframe\">\n",
              "  <thead>\n",
              "    <tr style=\"text-align: right;\">\n",
              "      <th></th>\n",
              "      <th>案類</th>\n",
              "      <th>發生(現)日期</th>\n",
              "      <th>發生時段</th>\n",
              "      <th>發生(現)地點</th>\n",
              "    </tr>\n",
              "    <tr>\n",
              "      <th>編號</th>\n",
              "      <th></th>\n",
              "      <th></th>\n",
              "      <th></th>\n",
              "      <th></th>\n",
              "    </tr>\n",
              "  </thead>\n",
              "  <tbody>\n",
              "    <tr>\n",
              "      <th>0</th>\n",
              "      <td>機車竊盜</td>\n",
              "      <td>1070104</td>\n",
              "      <td>00~02</td>\n",
              "      <td>臺北市中山區林森北路133巷72弄內</td>\n",
              "    </tr>\n",
              "    <tr>\n",
              "      <th>1</th>\n",
              "      <td>機車竊盜</td>\n",
              "      <td>1070104</td>\n",
              "      <td>06~08</td>\n",
              "      <td>臺北市士林區德行東路90巷27弄1~30號</td>\n",
              "    </tr>\n",
              "    <tr>\n",
              "      <th>2</th>\n",
              "      <td>機車竊盜</td>\n",
              "      <td>1070105</td>\n",
              "      <td>22~24</td>\n",
              "      <td>臺北市大安區仁愛路3段1~30號</td>\n",
              "    </tr>\n",
              "    <tr>\n",
              "      <th>3</th>\n",
              "      <td>機車竊盜</td>\n",
              "      <td>1070106</td>\n",
              "      <td>00~02</td>\n",
              "      <td>臺北市中正區文北里杭州南路1段61~90號</td>\n",
              "    </tr>\n",
              "    <tr>\n",
              "      <th>4</th>\n",
              "      <td>機車竊盜</td>\n",
              "      <td>1070107</td>\n",
              "      <td>18~20</td>\n",
              "      <td>臺北市萬華區大理街91~120號</td>\n",
              "    </tr>\n",
              "    <tr>\n",
              "      <th>...</th>\n",
              "      <td>...</td>\n",
              "      <td>...</td>\n",
              "      <td>...</td>\n",
              "      <td>...</td>\n",
              "    </tr>\n",
              "    <tr>\n",
              "      <th>6325</th>\n",
              "      <td>自行車竊盜</td>\n",
              "      <td>1091125</td>\n",
              "      <td>18~21</td>\n",
              "      <td>臺北市中正區黎明里常德街1~30號</td>\n",
              "    </tr>\n",
              "    <tr>\n",
              "      <th>6326</th>\n",
              "      <td>自行車竊盜</td>\n",
              "      <td>1100216</td>\n",
              "      <td>18~21</td>\n",
              "      <td>臺北市大安區民輝里忠孝新生捷運站3號出口腳踏車停放區</td>\n",
              "    </tr>\n",
              "    <tr>\n",
              "      <th>6327</th>\n",
              "      <td>自行車竊盜</td>\n",
              "      <td>1100224</td>\n",
              "      <td>18~21</td>\n",
              "      <td>臺北市大安區敦安里信義路4段199巷1~30號前</td>\n",
              "    </tr>\n",
              "    <tr>\n",
              "      <th>6328</th>\n",
              "      <td>自行車竊盜</td>\n",
              "      <td>1100226</td>\n",
              "      <td>06~09</td>\n",
              "      <td>臺北市北投區建民里承德路6段329號洲美蜆仔港公園自行車停車格</td>\n",
              "    </tr>\n",
              "    <tr>\n",
              "      <th>6329</th>\n",
              "      <td>自行車竊盜</td>\n",
              "      <td>1100226</td>\n",
              "      <td>15~18</td>\n",
              "      <td>臺北市大同區承德路3段庫倫街口東南角停車場</td>\n",
              "    </tr>\n",
              "  </tbody>\n",
              "</table>\n",
              "<p>6330 rows × 4 columns</p>\n",
              "</div>"
            ],
            "text/plain": [
              "         案類  發生(現)日期   發生時段                          發生(現)地點\n",
              "編號                                                          \n",
              "0      機車竊盜  1070104  00~02               臺北市中山區林森北路133巷72弄內\n",
              "1      機車竊盜  1070104  06~08            臺北市士林區德行東路90巷27弄1~30號\n",
              "2      機車竊盜  1070105  22~24                 臺北市大安區仁愛路3段1~30號\n",
              "3      機車竊盜  1070106  00~02            臺北市中正區文北里杭州南路1段61~90號\n",
              "4      機車竊盜  1070107  18~20                 臺北市萬華區大理街91~120號\n",
              "...     ...      ...    ...                              ...\n",
              "6325  自行車竊盜  1091125  18~21                臺北市中正區黎明里常德街1~30號\n",
              "6326  自行車竊盜  1100216  18~21       臺北市大安區民輝里忠孝新生捷運站3號出口腳踏車停放區\n",
              "6327  自行車竊盜  1100224  18~21         臺北市大安區敦安里信義路4段199巷1~30號前\n",
              "6328  自行車竊盜  1100226  06~09  臺北市北投區建民里承德路6段329號洲美蜆仔港公園自行車停車格\n",
              "6329  自行車竊盜  1100226  15~18            臺北市大同區承德路3段庫倫街口東南角停車場\n",
              "\n",
              "[6330 rows x 4 columns]"
            ]
          },
          "metadata": {
            "tags": []
          },
          "execution_count": 11
        }
      ]
    },
    {
      "cell_type": "code",
      "metadata": {
        "colab": {
          "base_uri": "https://localhost:8080/",
          "height": 17
        },
        "id": "jtd5anbIKrw4",
        "outputId": "0c47fa93-e444-49a3-c401-3fb2a8de1e20"
      },
      "source": [
        "from google.colab import files\n",
        "df_all.to_csv('NewTaipei_crime_data.csv',encoding='big5')\n",
        "files.download('NewTaipei_crime_data.csv')"
      ],
      "execution_count": 12,
      "outputs": [
        {
          "output_type": "display_data",
          "data": {
            "application/javascript": [
              "\n",
              "    async function download(id, filename, size) {\n",
              "      if (!google.colab.kernel.accessAllowed) {\n",
              "        return;\n",
              "      }\n",
              "      const div = document.createElement('div');\n",
              "      const label = document.createElement('label');\n",
              "      label.textContent = `Downloading \"${filename}\": `;\n",
              "      div.appendChild(label);\n",
              "      const progress = document.createElement('progress');\n",
              "      progress.max = size;\n",
              "      div.appendChild(progress);\n",
              "      document.body.appendChild(div);\n",
              "\n",
              "      const buffers = [];\n",
              "      let downloaded = 0;\n",
              "\n",
              "      const channel = await google.colab.kernel.comms.open(id);\n",
              "      // Send a message to notify the kernel that we're ready.\n",
              "      channel.send({})\n",
              "\n",
              "      for await (const message of channel.messages) {\n",
              "        // Send a message to notify the kernel that we're ready.\n",
              "        channel.send({})\n",
              "        if (message.buffers) {\n",
              "          for (const buffer of message.buffers) {\n",
              "            buffers.push(buffer);\n",
              "            downloaded += buffer.byteLength;\n",
              "            progress.value = downloaded;\n",
              "          }\n",
              "        }\n",
              "      }\n",
              "      const blob = new Blob(buffers, {type: 'application/binary'});\n",
              "      const a = document.createElement('a');\n",
              "      a.href = window.URL.createObjectURL(blob);\n",
              "      a.download = filename;\n",
              "      div.appendChild(a);\n",
              "      a.click();\n",
              "      div.remove();\n",
              "    }\n",
              "  "
            ],
            "text/plain": [
              "<IPython.core.display.Javascript object>"
            ]
          },
          "metadata": {
            "tags": []
          }
        },
        {
          "output_type": "display_data",
          "data": {
            "application/javascript": [
              "download(\"download_caabccf9-90a7-4700-bdcc-e445875754fd\", \"NewTaipei_crime_data.csv\", 401864)"
            ],
            "text/plain": [
              "<IPython.core.display.Javascript object>"
            ]
          },
          "metadata": {
            "tags": []
          }
        }
      ]
    }
  ]
}